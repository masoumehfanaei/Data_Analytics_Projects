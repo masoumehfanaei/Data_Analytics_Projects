{
 "cells": [
  {
   "cell_type": "code",
   "execution_count": 1,
   "id": "abb3c51c",
   "metadata": {},
   "outputs": [],
   "source": [
    "import pandas as pd\n",
    "import numpy as np\n",
    "import matplotlib.pyplot as plt\n",
    "import seaborn as sns"
   ]
  },
  {
   "cell_type": "code",
   "execution_count": 2,
   "id": "b5df3133",
   "metadata": {},
   "outputs": [
    {
     "name": "stdout",
     "output_type": "stream",
     "text": [
      "Collecting pyarrow\n",
      "  Obtaining dependency information for pyarrow from https://files.pythonhosted.org/packages/dc/45/31441c988329afed625a791a7d78f1cf2fcb40dcc86a1d61e081287516a8/pyarrow-12.0.1-cp39-cp39-win_amd64.whl.metadata\n",
      "  Downloading pyarrow-12.0.1-cp39-cp39-win_amd64.whl.metadata (3.1 kB)\n",
      "Requirement already satisfied: numpy>=1.16.6 in c:\\users\\bahar\\anaconda3\\lib\\site-packages (from pyarrow) (1.20.2)\n",
      "Downloading pyarrow-12.0.1-cp39-cp39-win_amd64.whl (21.5 MB)\n",
      "   ---------------------------------------- 21.5/21.5 MB 3.6 MB/s eta 0:00:00\n",
      "Installing collected packages: pyarrow\n",
      "Successfully installed pyarrow-12.0.1\n"
     ]
    },
    {
     "name": "stderr",
     "output_type": "stream",
     "text": [
      "DEPRECATION: pyodbc 4.0.0-unsupported has a non-standard version number. pip 23.3 will enforce this behaviour change. A possible replacement is to upgrade to a newer version of pyodbc or contact the author to suggest that they release a version with a conforming version number. Discussion can be found at https://github.com/pypa/pip/issues/12063\n"
     ]
    }
   ],
   "source": [
    "### In order to work with feather files , do install pyarrow package ..\n",
    "#!pip install pyarrow"
   ]
  },
  {
   "cell_type": "code",
   "execution_count": 3,
   "id": "f95e1e98",
   "metadata": {},
   "outputs": [],
   "source": [
    "all_data = pd.read_feather(r\"C:\\Users\\Bahar\\Desktop\\Sales_data.ftr\")"
   ]
  },
  {
   "cell_type": "code",
   "execution_count": 4,
   "id": "7ca86a52",
   "metadata": {},
   "outputs": [
    {
     "data": {
      "text/html": [
       "<div>\n",
       "<style scoped>\n",
       "    .dataframe tbody tr th:only-of-type {\n",
       "        vertical-align: middle;\n",
       "    }\n",
       "\n",
       "    .dataframe tbody tr th {\n",
       "        vertical-align: top;\n",
       "    }\n",
       "\n",
       "    .dataframe thead th {\n",
       "        text-align: right;\n",
       "    }\n",
       "</style>\n",
       "<table border=\"1\" class=\"dataframe\">\n",
       "  <thead>\n",
       "    <tr style=\"text-align: right;\">\n",
       "      <th></th>\n",
       "      <th>Order ID</th>\n",
       "      <th>Product</th>\n",
       "      <th>Quantity Ordered</th>\n",
       "      <th>Price Each</th>\n",
       "      <th>Order Date</th>\n",
       "      <th>Purchase Address</th>\n",
       "    </tr>\n",
       "  </thead>\n",
       "  <tbody>\n",
       "    <tr>\n",
       "      <th>0</th>\n",
       "      <td>176558</td>\n",
       "      <td>USB-C Charging Cable</td>\n",
       "      <td>2</td>\n",
       "      <td>11.95</td>\n",
       "      <td>04/19/19 08:46</td>\n",
       "      <td>917 1st St, Dallas, TX 75001</td>\n",
       "    </tr>\n",
       "    <tr>\n",
       "      <th>1</th>\n",
       "      <td>None</td>\n",
       "      <td>None</td>\n",
       "      <td>None</td>\n",
       "      <td>None</td>\n",
       "      <td>None</td>\n",
       "      <td>None</td>\n",
       "    </tr>\n",
       "    <tr>\n",
       "      <th>2</th>\n",
       "      <td>176559</td>\n",
       "      <td>Bose SoundSport Headphones</td>\n",
       "      <td>1</td>\n",
       "      <td>99.99</td>\n",
       "      <td>04/07/19 22:30</td>\n",
       "      <td>682 Chestnut St, Boston, MA 02215</td>\n",
       "    </tr>\n",
       "    <tr>\n",
       "      <th>3</th>\n",
       "      <td>176560</td>\n",
       "      <td>Google Phone</td>\n",
       "      <td>1</td>\n",
       "      <td>600</td>\n",
       "      <td>04/12/19 14:38</td>\n",
       "      <td>669 Spruce St, Los Angeles, CA 90001</td>\n",
       "    </tr>\n",
       "    <tr>\n",
       "      <th>4</th>\n",
       "      <td>176560</td>\n",
       "      <td>Wired Headphones</td>\n",
       "      <td>1</td>\n",
       "      <td>11.99</td>\n",
       "      <td>04/12/19 14:38</td>\n",
       "      <td>669 Spruce St, Los Angeles, CA 90001</td>\n",
       "    </tr>\n",
       "  </tbody>\n",
       "</table>\n",
       "</div>"
      ],
      "text/plain": [
       "  Order ID                     Product Quantity Ordered Price Each  \\\n",
       "0   176558        USB-C Charging Cable                2      11.95   \n",
       "1     None                        None             None       None   \n",
       "2   176559  Bose SoundSport Headphones                1      99.99   \n",
       "3   176560                Google Phone                1        600   \n",
       "4   176560            Wired Headphones                1      11.99   \n",
       "\n",
       "       Order Date                      Purchase Address  \n",
       "0  04/19/19 08:46          917 1st St, Dallas, TX 75001  \n",
       "1            None                                  None  \n",
       "2  04/07/19 22:30     682 Chestnut St, Boston, MA 02215  \n",
       "3  04/12/19 14:38  669 Spruce St, Los Angeles, CA 90001  \n",
       "4  04/12/19 14:38  669 Spruce St, Los Angeles, CA 90001  "
      ]
     },
     "execution_count": 4,
     "metadata": {},
     "output_type": "execute_result"
    }
   ],
   "source": [
    "all_data.head()"
   ]
  },
  {
   "cell_type": "markdown",
   "id": "a9a7dd8e",
   "metadata": {},
   "source": [
    "## Data cleaning and formatting"
   ]
  },
  {
   "cell_type": "code",
   "execution_count": 5,
   "id": "3c25fa5a",
   "metadata": {},
   "outputs": [
    {
     "data": {
      "text/plain": [
       "Order ID            545\n",
       "Product             545\n",
       "Quantity Ordered    545\n",
       "Price Each          545\n",
       "Order Date          545\n",
       "Purchase Address    545\n",
       "dtype: int64"
      ]
     },
     "execution_count": 5,
     "metadata": {},
     "output_type": "execute_result"
    }
   ],
   "source": [
    "all_data.isnull().sum() ## checking out total missing values we have"
   ]
  },
  {
   "cell_type": "code",
   "execution_count": 6,
   "id": "4594b9b2",
   "metadata": {},
   "outputs": [],
   "source": [
    "all_data = all_data.dropna(how=\"all\")"
   ]
  },
  {
   "cell_type": "raw",
   "id": "4ebe729a",
   "metadata": {},
   "source": [
    "'any' or 'all'. If 'any', drop a row if it contains any nulls. If 'all', drop a row only if all its values are null."
   ]
  },
  {
   "cell_type": "code",
   "execution_count": 7,
   "id": "d1d2a307",
   "metadata": {},
   "outputs": [
    {
     "data": {
      "text/plain": [
       "Order ID            0\n",
       "Product             0\n",
       "Quantity Ordered    0\n",
       "Price Each          0\n",
       "Order Date          0\n",
       "Purchase Address    0\n",
       "dtype: int64"
      ]
     },
     "execution_count": 7,
     "metadata": {},
     "output_type": "execute_result"
    }
   ],
   "source": [
    "all_data.isnull().sum()"
   ]
  },
  {
   "cell_type": "code",
   "execution_count": 8,
   "id": "079e0e45",
   "metadata": {},
   "outputs": [
    {
     "data": {
      "text/plain": [
       "0         False\n",
       "2         False\n",
       "3         False\n",
       "4         False\n",
       "5         False\n",
       "          ...  \n",
       "186845    False\n",
       "186846    False\n",
       "186847    False\n",
       "186848    False\n",
       "186849    False\n",
       "Length: 186305, dtype: bool"
      ]
     },
     "execution_count": 8,
     "metadata": {},
     "output_type": "execute_result"
    }
   ],
   "source": [
    "all_data.duplicated()"
   ]
  },
  {
   "cell_type": "code",
   "execution_count": 9,
   "id": "b6bc5025",
   "metadata": {},
   "outputs": [
    {
     "data": {
      "text/html": [
       "<div>\n",
       "<style scoped>\n",
       "    .dataframe tbody tr th:only-of-type {\n",
       "        vertical-align: middle;\n",
       "    }\n",
       "\n",
       "    .dataframe tbody tr th {\n",
       "        vertical-align: top;\n",
       "    }\n",
       "\n",
       "    .dataframe thead th {\n",
       "        text-align: right;\n",
       "    }\n",
       "</style>\n",
       "<table border=\"1\" class=\"dataframe\">\n",
       "  <thead>\n",
       "    <tr style=\"text-align: right;\">\n",
       "      <th></th>\n",
       "      <th>Order ID</th>\n",
       "      <th>Product</th>\n",
       "      <th>Quantity Ordered</th>\n",
       "      <th>Price Each</th>\n",
       "      <th>Order Date</th>\n",
       "      <th>Purchase Address</th>\n",
       "    </tr>\n",
       "  </thead>\n",
       "  <tbody>\n",
       "    <tr>\n",
       "      <th>31</th>\n",
       "      <td>176585</td>\n",
       "      <td>Bose SoundSport Headphones</td>\n",
       "      <td>1</td>\n",
       "      <td>99.99</td>\n",
       "      <td>04/07/19 11:31</td>\n",
       "      <td>823 Highland St, Boston, MA 02215</td>\n",
       "    </tr>\n",
       "    <tr>\n",
       "      <th>1149</th>\n",
       "      <td>Order ID</td>\n",
       "      <td>Product</td>\n",
       "      <td>Quantity Ordered</td>\n",
       "      <td>Price Each</td>\n",
       "      <td>Order Date</td>\n",
       "      <td>Purchase Address</td>\n",
       "    </tr>\n",
       "    <tr>\n",
       "      <th>1155</th>\n",
       "      <td>Order ID</td>\n",
       "      <td>Product</td>\n",
       "      <td>Quantity Ordered</td>\n",
       "      <td>Price Each</td>\n",
       "      <td>Order Date</td>\n",
       "      <td>Purchase Address</td>\n",
       "    </tr>\n",
       "    <tr>\n",
       "      <th>1302</th>\n",
       "      <td>177795</td>\n",
       "      <td>Apple Airpods Headphones</td>\n",
       "      <td>1</td>\n",
       "      <td>150</td>\n",
       "      <td>04/27/19 19:45</td>\n",
       "      <td>740 14th St, Seattle, WA 98101</td>\n",
       "    </tr>\n",
       "    <tr>\n",
       "      <th>1684</th>\n",
       "      <td>178158</td>\n",
       "      <td>USB-C Charging Cable</td>\n",
       "      <td>1</td>\n",
       "      <td>11.95</td>\n",
       "      <td>04/28/19 21:13</td>\n",
       "      <td>197 Center St, San Francisco, CA 94016</td>\n",
       "    </tr>\n",
       "    <tr>\n",
       "      <th>...</th>\n",
       "      <td>...</td>\n",
       "      <td>...</td>\n",
       "      <td>...</td>\n",
       "      <td>...</td>\n",
       "      <td>...</td>\n",
       "      <td>...</td>\n",
       "    </tr>\n",
       "    <tr>\n",
       "      <th>186563</th>\n",
       "      <td>Order ID</td>\n",
       "      <td>Product</td>\n",
       "      <td>Quantity Ordered</td>\n",
       "      <td>Price Each</td>\n",
       "      <td>Order Date</td>\n",
       "      <td>Purchase Address</td>\n",
       "    </tr>\n",
       "    <tr>\n",
       "      <th>186632</th>\n",
       "      <td>Order ID</td>\n",
       "      <td>Product</td>\n",
       "      <td>Quantity Ordered</td>\n",
       "      <td>Price Each</td>\n",
       "      <td>Order Date</td>\n",
       "      <td>Purchase Address</td>\n",
       "    </tr>\n",
       "    <tr>\n",
       "      <th>186738</th>\n",
       "      <td>Order ID</td>\n",
       "      <td>Product</td>\n",
       "      <td>Quantity Ordered</td>\n",
       "      <td>Price Each</td>\n",
       "      <td>Order Date</td>\n",
       "      <td>Purchase Address</td>\n",
       "    </tr>\n",
       "    <tr>\n",
       "      <th>186782</th>\n",
       "      <td>259296</td>\n",
       "      <td>Apple Airpods Headphones</td>\n",
       "      <td>1</td>\n",
       "      <td>150</td>\n",
       "      <td>09/28/19 16:48</td>\n",
       "      <td>894 6th St, Dallas, TX 75001</td>\n",
       "    </tr>\n",
       "    <tr>\n",
       "      <th>186785</th>\n",
       "      <td>259297</td>\n",
       "      <td>Lightning Charging Cable</td>\n",
       "      <td>1</td>\n",
       "      <td>14.95</td>\n",
       "      <td>09/15/19 18:54</td>\n",
       "      <td>138 Main St, Boston, MA 02215</td>\n",
       "    </tr>\n",
       "  </tbody>\n",
       "</table>\n",
       "<p>618 rows × 6 columns</p>\n",
       "</div>"
      ],
      "text/plain": [
       "        Order ID                     Product  Quantity Ordered  Price Each  \\\n",
       "31        176585  Bose SoundSport Headphones                 1       99.99   \n",
       "1149    Order ID                     Product  Quantity Ordered  Price Each   \n",
       "1155    Order ID                     Product  Quantity Ordered  Price Each   \n",
       "1302      177795    Apple Airpods Headphones                 1         150   \n",
       "1684      178158        USB-C Charging Cable                 1       11.95   \n",
       "...          ...                         ...               ...         ...   \n",
       "186563  Order ID                     Product  Quantity Ordered  Price Each   \n",
       "186632  Order ID                     Product  Quantity Ordered  Price Each   \n",
       "186738  Order ID                     Product  Quantity Ordered  Price Each   \n",
       "186782    259296    Apple Airpods Headphones                 1         150   \n",
       "186785    259297    Lightning Charging Cable                 1       14.95   \n",
       "\n",
       "            Order Date                        Purchase Address  \n",
       "31      04/07/19 11:31       823 Highland St, Boston, MA 02215  \n",
       "1149        Order Date                        Purchase Address  \n",
       "1155        Order Date                        Purchase Address  \n",
       "1302    04/27/19 19:45          740 14th St, Seattle, WA 98101  \n",
       "1684    04/28/19 21:13  197 Center St, San Francisco, CA 94016  \n",
       "...                ...                                     ...  \n",
       "186563      Order Date                        Purchase Address  \n",
       "186632      Order Date                        Purchase Address  \n",
       "186738      Order Date                        Purchase Address  \n",
       "186782  09/28/19 16:48            894 6th St, Dallas, TX 75001  \n",
       "186785  09/15/19 18:54           138 Main St, Boston, MA 02215  \n",
       "\n",
       "[618 rows x 6 columns]"
      ]
     },
     "execution_count": 9,
     "metadata": {},
     "output_type": "execute_result"
    }
   ],
   "source": [
    "all_data[all_data.duplicated()]"
   ]
  },
  {
   "cell_type": "code",
   "execution_count": 10,
   "id": "8a46077b",
   "metadata": {},
   "outputs": [],
   "source": [
    "all_data = all_data.drop_duplicates() ## Dropping all the duplicate rows .."
   ]
  },
  {
   "cell_type": "markdown",
   "id": "1ea49edb",
   "metadata": {},
   "source": [
    "## Which is the best month for sale"
   ]
  },
  {
   "cell_type": "code",
   "execution_count": 11,
   "id": "67ce388b",
   "metadata": {},
   "outputs": [
    {
     "data": {
      "text/plain": [
       "'04/19/19 08:46'"
      ]
     },
     "execution_count": 11,
     "metadata": {},
     "output_type": "execute_result"
    }
   ],
   "source": [
    "all_data['Order Date'][0]"
   ]
  },
  {
   "cell_type": "code",
   "execution_count": 21,
   "id": "a0a52275",
   "metadata": {},
   "outputs": [
    {
     "data": {
      "text/plain": [
       "'04'"
      ]
     },
     "execution_count": 21,
     "metadata": {},
     "output_type": "execute_result"
    }
   ],
   "source": [
    "all_data['Order Date'][0].split('/')[0] ## extracting month from \"Order Date\""
   ]
  },
  {
   "cell_type": "code",
   "execution_count": 22,
   "id": "b59120ac",
   "metadata": {},
   "outputs": [],
   "source": [
    "def return_month(x):\n",
    "    return x.split('/')[0]"
   ]
  },
  {
   "cell_type": "code",
   "execution_count": 23,
   "id": "b9d1e582",
   "metadata": {},
   "outputs": [],
   "source": [
    "all_data['Month'] = all_data['Order Date'].apply(return_month) "
   ]
  },
  {
   "cell_type": "code",
   "execution_count": 25,
   "id": "668b319b",
   "metadata": {},
   "outputs": [
    {
     "data": {
      "text/plain": [
       "array(['04', '05', 'Order Date', '08', '09', '12', '01', '02', '03', '07',\n",
       "       '06', '11', '10'], dtype=object)"
      ]
     },
     "execution_count": 25,
     "metadata": {},
     "output_type": "execute_result"
    }
   ],
   "source": [
    "all_data['Month'].unique()"
   ]
  },
  {
   "cell_type": "code",
   "execution_count": 26,
   "id": "d5dc3d6c",
   "metadata": {},
   "outputs": [
    {
     "data": {
      "text/html": [
       "<div>\n",
       "<style scoped>\n",
       "    .dataframe tbody tr th:only-of-type {\n",
       "        vertical-align: middle;\n",
       "    }\n",
       "\n",
       "    .dataframe tbody tr th {\n",
       "        vertical-align: top;\n",
       "    }\n",
       "\n",
       "    .dataframe thead th {\n",
       "        text-align: right;\n",
       "    }\n",
       "</style>\n",
       "<table border=\"1\" class=\"dataframe\">\n",
       "  <thead>\n",
       "    <tr style=\"text-align: right;\">\n",
       "      <th></th>\n",
       "      <th>Order ID</th>\n",
       "      <th>Product</th>\n",
       "      <th>Quantity Ordered</th>\n",
       "      <th>Price Each</th>\n",
       "      <th>Order Date</th>\n",
       "      <th>Purchase Address</th>\n",
       "      <th>Month</th>\n",
       "    </tr>\n",
       "  </thead>\n",
       "  <tbody>\n",
       "    <tr>\n",
       "      <th>0</th>\n",
       "      <td>176558</td>\n",
       "      <td>USB-C Charging Cable</td>\n",
       "      <td>2</td>\n",
       "      <td>11.95</td>\n",
       "      <td>04/19/19 08:46</td>\n",
       "      <td>917 1st St, Dallas, TX 75001</td>\n",
       "      <td>04</td>\n",
       "    </tr>\n",
       "    <tr>\n",
       "      <th>2</th>\n",
       "      <td>176559</td>\n",
       "      <td>Bose SoundSport Headphones</td>\n",
       "      <td>1</td>\n",
       "      <td>99.99</td>\n",
       "      <td>04/07/19 22:30</td>\n",
       "      <td>682 Chestnut St, Boston, MA 02215</td>\n",
       "      <td>04</td>\n",
       "    </tr>\n",
       "    <tr>\n",
       "      <th>3</th>\n",
       "      <td>176560</td>\n",
       "      <td>Google Phone</td>\n",
       "      <td>1</td>\n",
       "      <td>600</td>\n",
       "      <td>04/12/19 14:38</td>\n",
       "      <td>669 Spruce St, Los Angeles, CA 90001</td>\n",
       "      <td>04</td>\n",
       "    </tr>\n",
       "    <tr>\n",
       "      <th>4</th>\n",
       "      <td>176560</td>\n",
       "      <td>Wired Headphones</td>\n",
       "      <td>1</td>\n",
       "      <td>11.99</td>\n",
       "      <td>04/12/19 14:38</td>\n",
       "      <td>669 Spruce St, Los Angeles, CA 90001</td>\n",
       "      <td>04</td>\n",
       "    </tr>\n",
       "    <tr>\n",
       "      <th>5</th>\n",
       "      <td>176561</td>\n",
       "      <td>Wired Headphones</td>\n",
       "      <td>1</td>\n",
       "      <td>11.99</td>\n",
       "      <td>04/30/19 09:27</td>\n",
       "      <td>333 8th St, Los Angeles, CA 90001</td>\n",
       "      <td>04</td>\n",
       "    </tr>\n",
       "    <tr>\n",
       "      <th>...</th>\n",
       "      <td>...</td>\n",
       "      <td>...</td>\n",
       "      <td>...</td>\n",
       "      <td>...</td>\n",
       "      <td>...</td>\n",
       "      <td>...</td>\n",
       "      <td>...</td>\n",
       "    </tr>\n",
       "    <tr>\n",
       "      <th>186845</th>\n",
       "      <td>259353</td>\n",
       "      <td>AAA Batteries (4-pack)</td>\n",
       "      <td>3</td>\n",
       "      <td>2.99</td>\n",
       "      <td>09/17/19 20:56</td>\n",
       "      <td>840 Highland St, Los Angeles, CA 90001</td>\n",
       "      <td>09</td>\n",
       "    </tr>\n",
       "    <tr>\n",
       "      <th>186846</th>\n",
       "      <td>259354</td>\n",
       "      <td>iPhone</td>\n",
       "      <td>1</td>\n",
       "      <td>700</td>\n",
       "      <td>09/01/19 16:00</td>\n",
       "      <td>216 Dogwood St, San Francisco, CA 94016</td>\n",
       "      <td>09</td>\n",
       "    </tr>\n",
       "    <tr>\n",
       "      <th>186847</th>\n",
       "      <td>259355</td>\n",
       "      <td>iPhone</td>\n",
       "      <td>1</td>\n",
       "      <td>700</td>\n",
       "      <td>09/23/19 07:39</td>\n",
       "      <td>220 12th St, San Francisco, CA 94016</td>\n",
       "      <td>09</td>\n",
       "    </tr>\n",
       "    <tr>\n",
       "      <th>186848</th>\n",
       "      <td>259356</td>\n",
       "      <td>34in Ultrawide Monitor</td>\n",
       "      <td>1</td>\n",
       "      <td>379.99</td>\n",
       "      <td>09/19/19 17:30</td>\n",
       "      <td>511 Forest St, San Francisco, CA 94016</td>\n",
       "      <td>09</td>\n",
       "    </tr>\n",
       "    <tr>\n",
       "      <th>186849</th>\n",
       "      <td>259357</td>\n",
       "      <td>USB-C Charging Cable</td>\n",
       "      <td>1</td>\n",
       "      <td>11.95</td>\n",
       "      <td>09/30/19 00:18</td>\n",
       "      <td>250 Meadow St, San Francisco, CA 94016</td>\n",
       "      <td>09</td>\n",
       "    </tr>\n",
       "  </tbody>\n",
       "</table>\n",
       "<p>185686 rows × 7 columns</p>\n",
       "</div>"
      ],
      "text/plain": [
       "       Order ID                     Product Quantity Ordered Price Each  \\\n",
       "0        176558        USB-C Charging Cable                2      11.95   \n",
       "2        176559  Bose SoundSport Headphones                1      99.99   \n",
       "3        176560                Google Phone                1        600   \n",
       "4        176560            Wired Headphones                1      11.99   \n",
       "5        176561            Wired Headphones                1      11.99   \n",
       "...         ...                         ...              ...        ...   \n",
       "186845   259353      AAA Batteries (4-pack)                3       2.99   \n",
       "186846   259354                      iPhone                1        700   \n",
       "186847   259355                      iPhone                1        700   \n",
       "186848   259356      34in Ultrawide Monitor                1     379.99   \n",
       "186849   259357        USB-C Charging Cable                1      11.95   \n",
       "\n",
       "            Order Date                         Purchase Address Month  \n",
       "0       04/19/19 08:46             917 1st St, Dallas, TX 75001    04  \n",
       "2       04/07/19 22:30        682 Chestnut St, Boston, MA 02215    04  \n",
       "3       04/12/19 14:38     669 Spruce St, Los Angeles, CA 90001    04  \n",
       "4       04/12/19 14:38     669 Spruce St, Los Angeles, CA 90001    04  \n",
       "5       04/30/19 09:27        333 8th St, Los Angeles, CA 90001    04  \n",
       "...                ...                                      ...   ...  \n",
       "186845  09/17/19 20:56   840 Highland St, Los Angeles, CA 90001    09  \n",
       "186846  09/01/19 16:00  216 Dogwood St, San Francisco, CA 94016    09  \n",
       "186847  09/23/19 07:39     220 12th St, San Francisco, CA 94016    09  \n",
       "186848  09/19/19 17:30   511 Forest St, San Francisco, CA 94016    09  \n",
       "186849  09/30/19 00:18   250 Meadow St, San Francisco, CA 94016    09  \n",
       "\n",
       "[185686 rows x 7 columns]"
      ]
     },
     "execution_count": 26,
     "metadata": {},
     "output_type": "execute_result"
    }
   ],
   "source": [
    "filter1 = all_data['Month'] == 'Order Date'\n",
    "all_data[~filter1]"
   ]
  },
  {
   "cell_type": "code",
   "execution_count": 27,
   "id": "0f04d1fd",
   "metadata": {},
   "outputs": [],
   "source": [
    "all_data = all_data[~filter1] ## excluding all those rows which have entry as \"Order Date\" in month feature"
   ]
  },
  {
   "cell_type": "code",
   "execution_count": 28,
   "id": "272e6fe9",
   "metadata": {},
   "outputs": [],
   "source": [
    "import warnings\n",
    "from warnings import filterwarnings\n",
    "filterwarnings('ignore')"
   ]
  },
  {
   "cell_type": "code",
   "execution_count": 29,
   "id": "fb42916c",
   "metadata": {},
   "outputs": [],
   "source": [
    "all_data['Month'] = all_data['Month'].astype(int)"
   ]
  },
  {
   "cell_type": "code",
   "execution_count": 30,
   "id": "a5459edb",
   "metadata": {},
   "outputs": [],
   "source": [
    "all_data['Quantity Ordered'] = all_data['Quantity Ordered'].astype(int)\n",
    "all_data['Price Each'] = all_data['Price Each'].astype(float)"
   ]
  },
  {
   "cell_type": "code",
   "execution_count": 31,
   "id": "2cd6fa6d",
   "metadata": {},
   "outputs": [],
   "source": [
    "all_data['sales'] = all_data['Quantity Ordered'] * all_data['Price Each'] ## creating sales feature"
   ]
  },
  {
   "cell_type": "code",
   "execution_count": 32,
   "id": "a9b3f910",
   "metadata": {},
   "outputs": [
    {
     "data": {
      "text/plain": [
       "Month\n",
       "1     1821413.16\n",
       "2     2200078.08\n",
       "3     2804973.35\n",
       "4     3389217.98\n",
       "5     3150616.23\n",
       "6     2576280.15\n",
       "7     2646461.32\n",
       "8     2241083.37\n",
       "9     2094465.69\n",
       "10    3734777.86\n",
       "11    3197875.05\n",
       "12    4608295.70\n",
       "Name: sales, dtype: float64"
      ]
     },
     "execution_count": 32,
     "metadata": {},
     "output_type": "execute_result"
    }
   ],
   "source": [
    "all_data.groupby(['Month'])['sales'].sum()"
   ]
  },
  {
   "cell_type": "code",
   "execution_count": 33,
   "id": "07298b6c",
   "metadata": {},
   "outputs": [
    {
     "data": {
      "text/plain": [
       "<AxesSubplot:xlabel='Month'>"
      ]
     },
     "execution_count": 33,
     "metadata": {},
     "output_type": "execute_result"
    },
    {
     "data": {
      "image/png": "[encoded data removed]",
      "text/plain": [
       "<Figure size 432x288 with 1 Axes>"
      ]
     },
     "metadata": {
      "needs_background": "light"
     },
     "output_type": "display_data"
    }
   ],
   "source": [
    "all_data.groupby(['Month'])['sales'].sum().plot(kind='bar')"
   ]
  },
  {
   "cell_type": "markdown",
   "id": "b3999f53",
   "metadata": {},
   "source": [
    "## Which city has max order "
   ]
  },
  {
   "cell_type": "code",
   "execution_count": 37,
   "id": "b33e2880",
   "metadata": {},
   "outputs": [
    {
     "data": {
      "text/plain": [
       "' Dallas'"
      ]
     },
     "execution_count": 37,
     "metadata": {},
     "output_type": "execute_result"
    }
   ],
   "source": [
    "all_data['Purchase Address'][0].split(',')[1]"
   ]
  },
  {
   "cell_type": "code",
   "execution_count": 38,
   "id": "113f9488",
   "metadata": {},
   "outputs": [],
   "source": [
    "all_data['city'] = all_data['Purchase Address'].str.split(',').str.get(1)"
   ]
  },
  {
   "cell_type": "code",
   "execution_count": 39,
   "id": "651ea1e8",
   "metadata": {},
   "outputs": [
    {
     "data": {
      "text/html": [
       "<div>\n",
       "<style scoped>\n",
       "    .dataframe tbody tr th:only-of-type {\n",
       "        vertical-align: middle;\n",
       "    }\n",
       "\n",
       "    .dataframe tbody tr th {\n",
       "        vertical-align: top;\n",
       "    }\n",
       "\n",
       "    .dataframe thead th {\n",
       "        text-align: right;\n",
       "    }\n",
       "</style>\n",
       "<table border=\"1\" class=\"dataframe\">\n",
       "  <thead>\n",
       "    <tr style=\"text-align: right;\">\n",
       "      <th></th>\n",
       "      <th>Order ID</th>\n",
       "      <th>Product</th>\n",
       "      <th>Quantity Ordered</th>\n",
       "      <th>Price Each</th>\n",
       "      <th>Order Date</th>\n",
       "      <th>Purchase Address</th>\n",
       "      <th>Month</th>\n",
       "      <th>sales</th>\n",
       "      <th>city</th>\n",
       "    </tr>\n",
       "  </thead>\n",
       "  <tbody>\n",
       "    <tr>\n",
       "      <th>0</th>\n",
       "      <td>176558</td>\n",
       "      <td>USB-C Charging Cable</td>\n",
       "      <td>2</td>\n",
       "      <td>11.95</td>\n",
       "      <td>04/19/19 08:46</td>\n",
       "      <td>917 1st St, Dallas, TX 75001</td>\n",
       "      <td>4</td>\n",
       "      <td>23.90</td>\n",
       "      <td>Dallas</td>\n",
       "    </tr>\n",
       "    <tr>\n",
       "      <th>2</th>\n",
       "      <td>176559</td>\n",
       "      <td>Bose SoundSport Headphones</td>\n",
       "      <td>1</td>\n",
       "      <td>99.99</td>\n",
       "      <td>04/07/19 22:30</td>\n",
       "      <td>682 Chestnut St, Boston, MA 02215</td>\n",
       "      <td>4</td>\n",
       "      <td>99.99</td>\n",
       "      <td>Boston</td>\n",
       "    </tr>\n",
       "    <tr>\n",
       "      <th>3</th>\n",
       "      <td>176560</td>\n",
       "      <td>Google Phone</td>\n",
       "      <td>1</td>\n",
       "      <td>600.00</td>\n",
       "      <td>04/12/19 14:38</td>\n",
       "      <td>669 Spruce St, Los Angeles, CA 90001</td>\n",
       "      <td>4</td>\n",
       "      <td>600.00</td>\n",
       "      <td>Los Angeles</td>\n",
       "    </tr>\n",
       "    <tr>\n",
       "      <th>4</th>\n",
       "      <td>176560</td>\n",
       "      <td>Wired Headphones</td>\n",
       "      <td>1</td>\n",
       "      <td>11.99</td>\n",
       "      <td>04/12/19 14:38</td>\n",
       "      <td>669 Spruce St, Los Angeles, CA 90001</td>\n",
       "      <td>4</td>\n",
       "      <td>11.99</td>\n",
       "      <td>Los Angeles</td>\n",
       "    </tr>\n",
       "    <tr>\n",
       "      <th>5</th>\n",
       "      <td>176561</td>\n",
       "      <td>Wired Headphones</td>\n",
       "      <td>1</td>\n",
       "      <td>11.99</td>\n",
       "      <td>04/30/19 09:27</td>\n",
       "      <td>333 8th St, Los Angeles, CA 90001</td>\n",
       "      <td>4</td>\n",
       "      <td>11.99</td>\n",
       "      <td>Los Angeles</td>\n",
       "    </tr>\n",
       "  </tbody>\n",
       "</table>\n",
       "</div>"
      ],
      "text/plain": [
       "  Order ID                     Product  Quantity Ordered  Price Each  \\\n",
       "0   176558        USB-C Charging Cable                 2       11.95   \n",
       "2   176559  Bose SoundSport Headphones                 1       99.99   \n",
       "3   176560                Google Phone                 1      600.00   \n",
       "4   176560            Wired Headphones                 1       11.99   \n",
       "5   176561            Wired Headphones                 1       11.99   \n",
       "\n",
       "       Order Date                      Purchase Address  Month   sales  \\\n",
       "0  04/19/19 08:46          917 1st St, Dallas, TX 75001      4   23.90   \n",
       "2  04/07/19 22:30     682 Chestnut St, Boston, MA 02215      4   99.99   \n",
       "3  04/12/19 14:38  669 Spruce St, Los Angeles, CA 90001      4  600.00   \n",
       "4  04/12/19 14:38  669 Spruce St, Los Angeles, CA 90001      4   11.99   \n",
       "5  04/30/19 09:27     333 8th St, Los Angeles, CA 90001      4   11.99   \n",
       "\n",
       "           city  \n",
       "0        Dallas  \n",
       "2        Boston  \n",
       "3   Los Angeles  \n",
       "4   Los Angeles  \n",
       "5   Los Angeles  "
      ]
     },
     "execution_count": 39,
     "metadata": {},
     "output_type": "execute_result"
    }
   ],
   "source": [
    "all_data.head()"
   ]
  },
  {
   "cell_type": "code",
   "execution_count": 40,
   "id": "b4f6d53b",
   "metadata": {},
   "outputs": [
    {
     "data": {
      "text/plain": [
       "<AxesSubplot:xlabel='city'>"
      ]
     },
     "execution_count": 40,
     "metadata": {},
     "output_type": "execute_result"
    },
    {
     "data": {
      "image/png": "[encoded data removed]",
      "text/plain": [
       "<Figure size 432x288 with 1 Axes>"
      ]
     },
     "metadata": {
      "needs_background": "light"
     },
     "output_type": "display_data"
    }
   ],
   "source": [
    "all_data.groupby(['city'])['Quantity Ordered'].sum().plot(kind='bar')"
   ]
  },
  {
   "cell_type": "code",
   "execution_count": 41,
   "id": "0b4cbda2",
   "metadata": {},
   "outputs": [
    {
     "data": {
      "text/plain": [
       "<AxesSubplot:ylabel='city'>"
      ]
     },
     "execution_count": 41,
     "metadata": {},
     "output_type": "execute_result"
    },
    {
     "data": {
      "image/png": "[encoded data removed]",
      "text/plain": [
       "<Figure size 432x288 with 1 Axes>"
      ]
     },
     "metadata": {},
     "output_type": "display_data"
    }
   ],
   "source": [
    "#frequency of purchase\n",
    "pd.value_counts(all_data['city']).plot(kind='pie' , autopct = '%1.0f%%') ## Pandas pie chart"
   ]
  },
  {
   "cell_type": "markdown",
   "id": "8313149a",
   "metadata": {},
   "source": [
    "## What product sold the most & Why?"
   ]
  },
  {
   "cell_type": "code",
   "execution_count": 42,
   "id": "a630a625",
   "metadata": {},
   "outputs": [],
   "source": [
    "count_df = all_data.groupby(['Product']).agg({'Quantity Ordered':'sum' , 'Price Each':'mean'})"
   ]
  },
  {
   "cell_type": "code",
   "execution_count": 45,
   "id": "213c65a2",
   "metadata": {},
   "outputs": [],
   "source": [
    "count_df = count_df.reset_index()"
   ]
  },
  {
   "cell_type": "code",
   "execution_count": 47,
   "id": "0b491913",
   "metadata": {},
   "outputs": [
    {
     "data": {
      "text/html": [
       "<div>\n",
       "<style scoped>\n",
       "    .dataframe tbody tr th:only-of-type {\n",
       "        vertical-align: middle;\n",
       "    }\n",
       "\n",
       "    .dataframe tbody tr th {\n",
       "        vertical-align: top;\n",
       "    }\n",
       "\n",
       "    .dataframe thead th {\n",
       "        text-align: right;\n",
       "    }\n",
       "</style>\n",
       "<table border=\"1\" class=\"dataframe\">\n",
       "  <thead>\n",
       "    <tr style=\"text-align: right;\">\n",
       "      <th></th>\n",
       "      <th>Product</th>\n",
       "      <th>Quantity Ordered</th>\n",
       "      <th>Price Each</th>\n",
       "    </tr>\n",
       "  </thead>\n",
       "  <tbody>\n",
       "    <tr>\n",
       "      <th>0</th>\n",
       "      <td>20in Monitor</td>\n",
       "      <td>4126</td>\n",
       "      <td>109.99</td>\n",
       "    </tr>\n",
       "    <tr>\n",
       "      <th>1</th>\n",
       "      <td>27in 4K Gaming Monitor</td>\n",
       "      <td>6239</td>\n",
       "      <td>389.99</td>\n",
       "    </tr>\n",
       "    <tr>\n",
       "      <th>2</th>\n",
       "      <td>27in FHD Monitor</td>\n",
       "      <td>7541</td>\n",
       "      <td>149.99</td>\n",
       "    </tr>\n",
       "    <tr>\n",
       "      <th>3</th>\n",
       "      <td>34in Ultrawide Monitor</td>\n",
       "      <td>6192</td>\n",
       "      <td>379.99</td>\n",
       "    </tr>\n",
       "    <tr>\n",
       "      <th>4</th>\n",
       "      <td>AA Batteries (4-pack)</td>\n",
       "      <td>27615</td>\n",
       "      <td>3.84</td>\n",
       "    </tr>\n",
       "  </tbody>\n",
       "</table>\n",
       "</div>"
      ],
      "text/plain": [
       "                  Product  Quantity Ordered  Price Each\n",
       "0            20in Monitor              4126      109.99\n",
       "1  27in 4K Gaming Monitor              6239      389.99\n",
       "2        27in FHD Monitor              7541      149.99\n",
       "3  34in Ultrawide Monitor              6192      379.99\n",
       "4   AA Batteries (4-pack)             27615        3.84"
      ]
     },
     "execution_count": 47,
     "metadata": {},
     "output_type": "execute_result"
    }
   ],
   "source": [
    "count_df.head()"
   ]
  },
  {
   "cell_type": "code",
   "execution_count": 48,
   "id": "5920b428",
   "metadata": {},
   "outputs": [],
   "source": [
    "products = count_df['Product'].values"
   ]
  },
  {
   "cell_type": "code",
   "execution_count": 50,
   "id": "2a47b1bc",
   "metadata": {},
   "outputs": [
    {
     "data": {
      "text/plain": [
       "Text(0, 0.5, 'Avg price of product')"
      ]
     },
     "execution_count": 50,
     "metadata": {},
     "output_type": "execute_result"
    },
    {
     "data": {
      "image/png": "[encoded data removed]",
      "text/plain": [
       "<Figure size 432x288 with 2 Axes>"
      ]
     },
     "metadata": {
      "needs_background": "light"
     },
     "output_type": "display_data"
    }
   ],
   "source": [
    "fig , ax1 = plt.subplots()\n",
    "\n",
    "ax2 = ax1.twinx() ## as X-axis is same for both plots , ie we are sharing x-axis , ie we have to use ax2 = ax1.twinx()\n",
    "\n",
    "ax1.bar(count_df['Product'] , count_df['Quantity Ordered'] , color='g')\n",
    "ax2.plot(count_df['Product'] , count_df['Price Each'] )\n",
    "ax1.set_xticklabels(products , rotation='vertical' , fontsize=8 )\n",
    "\n",
    "ax1.set_ylabel('Order Count')\n",
    "ax2.set_ylabel('Avg price of product')"
   ]
  },
  {
   "cell_type": "raw",
   "id": "b8f7d544",
   "metadata": {},
   "source": [
    "\n",
    "\n",
    "Insights : \n",
    "\n",
    "The top selling product is 'AAA Batteries'. \n",
    "The top selling products seems to have a correlation with the price of the product. \n",
    "The cheaper the product higher the quantity ordered and vice versa.\n",
    "\n",
    "\n",
    "\n"
   ]
  },
  {
   "cell_type": "markdown",
   "id": "bbb63124",
   "metadata": {},
   "source": [
    "## Understanding Trend of the most sold product"
   ]
  },
  {
   "cell_type": "code",
   "execution_count": 74,
   "id": "db521475",
   "metadata": {},
   "outputs": [
    {
     "data": {
      "text/plain": [
       "Index(['USB-C Charging Cable', 'Lightning Charging Cable',\n",
       "       'AAA Batteries (4-pack)', 'AA Batteries (4-pack)', 'Wired Headphones'],\n",
       "      dtype='object')"
      ]
     },
     "execution_count": 74,
     "metadata": {},
     "output_type": "execute_result"
    }
   ],
   "source": [
    "#top 5 products\n",
    "all_data['Product'].value_counts()[0:5].index"
   ]
  },
  {
   "cell_type": "code",
   "execution_count": 75,
   "id": "2deec71a",
   "metadata": {},
   "outputs": [],
   "source": [
    "most_sold_product = all_data['Product'].value_counts()[0:5].index"
   ]
  },
  {
   "cell_type": "code",
   "execution_count": 76,
   "id": "e1ae9dd1",
   "metadata": {},
   "outputs": [
    {
     "data": {
      "text/plain": [
       "0          True\n",
       "2         False\n",
       "3         False\n",
       "4          True\n",
       "5          True\n",
       "          ...  \n",
       "186845     True\n",
       "186846    False\n",
       "186847    False\n",
       "186848    False\n",
       "186849     True\n",
       "Name: Product, Length: 185686, dtype: bool"
      ]
     },
     "execution_count": 76,
     "metadata": {},
     "output_type": "execute_result"
    }
   ],
   "source": [
    "all_data['Product'].isin(most_sold_product)"
   ]
  },
  {
   "cell_type": "code",
   "execution_count": 77,
   "id": "571258ea",
   "metadata": {},
   "outputs": [],
   "source": [
    "most_sold_product_df = all_data[all_data['Product'].isin(most_sold_product)]  ## data of Top 5 most sold products only .."
   ]
  },
  {
   "cell_type": "code",
   "execution_count": 78,
   "id": "1da99c5e",
   "metadata": {},
   "outputs": [
    {
     "data": {
      "text/html": [
       "<div>\n",
       "<style scoped>\n",
       "    .dataframe tbody tr th:only-of-type {\n",
       "        vertical-align: middle;\n",
       "    }\n",
       "\n",
       "    .dataframe tbody tr th {\n",
       "        vertical-align: top;\n",
       "    }\n",
       "\n",
       "    .dataframe thead th {\n",
       "        text-align: right;\n",
       "    }\n",
       "</style>\n",
       "<table border=\"1\" class=\"dataframe\">\n",
       "  <thead>\n",
       "    <tr style=\"text-align: right;\">\n",
       "      <th></th>\n",
       "      <th>Order ID</th>\n",
       "      <th>Product</th>\n",
       "      <th>Quantity Ordered</th>\n",
       "      <th>Price Each</th>\n",
       "      <th>Order Date</th>\n",
       "      <th>Purchase Address</th>\n",
       "      <th>Month</th>\n",
       "      <th>sales</th>\n",
       "      <th>city</th>\n",
       "    </tr>\n",
       "  </thead>\n",
       "  <tbody>\n",
       "    <tr>\n",
       "      <th>0</th>\n",
       "      <td>176558</td>\n",
       "      <td>USB-C Charging Cable</td>\n",
       "      <td>2</td>\n",
       "      <td>11.95</td>\n",
       "      <td>04/19/19 08:46</td>\n",
       "      <td>917 1st St, Dallas, TX 75001</td>\n",
       "      <td>4</td>\n",
       "      <td>23.90</td>\n",
       "      <td>Dallas</td>\n",
       "    </tr>\n",
       "    <tr>\n",
       "      <th>4</th>\n",
       "      <td>176560</td>\n",
       "      <td>Wired Headphones</td>\n",
       "      <td>1</td>\n",
       "      <td>11.99</td>\n",
       "      <td>04/12/19 14:38</td>\n",
       "      <td>669 Spruce St, Los Angeles, CA 90001</td>\n",
       "      <td>4</td>\n",
       "      <td>11.99</td>\n",
       "      <td>Los Angeles</td>\n",
       "    </tr>\n",
       "    <tr>\n",
       "      <th>5</th>\n",
       "      <td>176561</td>\n",
       "      <td>Wired Headphones</td>\n",
       "      <td>1</td>\n",
       "      <td>11.99</td>\n",
       "      <td>04/30/19 09:27</td>\n",
       "      <td>333 8th St, Los Angeles, CA 90001</td>\n",
       "      <td>4</td>\n",
       "      <td>11.99</td>\n",
       "      <td>Los Angeles</td>\n",
       "    </tr>\n",
       "    <tr>\n",
       "      <th>6</th>\n",
       "      <td>176562</td>\n",
       "      <td>USB-C Charging Cable</td>\n",
       "      <td>1</td>\n",
       "      <td>11.95</td>\n",
       "      <td>04/29/19 13:03</td>\n",
       "      <td>381 Wilson St, San Francisco, CA 94016</td>\n",
       "      <td>4</td>\n",
       "      <td>11.95</td>\n",
       "      <td>San Francisco</td>\n",
       "    </tr>\n",
       "  </tbody>\n",
       "</table>\n",
       "</div>"
      ],
      "text/plain": [
       "  Order ID               Product  Quantity Ordered  Price Each  \\\n",
       "0   176558  USB-C Charging Cable                 2       11.95   \n",
       "4   176560      Wired Headphones                 1       11.99   \n",
       "5   176561      Wired Headphones                 1       11.99   \n",
       "6   176562  USB-C Charging Cable                 1       11.95   \n",
       "\n",
       "       Order Date                        Purchase Address  Month  sales  \\\n",
       "0  04/19/19 08:46            917 1st St, Dallas, TX 75001      4  23.90   \n",
       "4  04/12/19 14:38    669 Spruce St, Los Angeles, CA 90001      4  11.99   \n",
       "5  04/30/19 09:27       333 8th St, Los Angeles, CA 90001      4  11.99   \n",
       "6  04/29/19 13:03  381 Wilson St, San Francisco, CA 94016      4  11.95   \n",
       "\n",
       "             city  \n",
       "0          Dallas  \n",
       "4     Los Angeles  \n",
       "5     Los Angeles  \n",
       "6   San Francisco  "
      ]
     },
     "execution_count": 78,
     "metadata": {},
     "output_type": "execute_result"
    }
   ],
   "source": [
    "most_sold_product_df.head(4)"
   ]
  },
  {
   "cell_type": "code",
   "execution_count": 85,
   "id": "203d4339",
   "metadata": {},
   "outputs": [
    {
     "data": {
      "text/html": [
       "<div>\n",
       "<style scoped>\n",
       "    .dataframe tbody tr th:only-of-type {\n",
       "        vertical-align: middle;\n",
       "    }\n",
       "\n",
       "    .dataframe tbody tr th {\n",
       "        vertical-align: top;\n",
       "    }\n",
       "\n",
       "    .dataframe thead th {\n",
       "        text-align: right;\n",
       "    }\n",
       "</style>\n",
       "<table border=\"1\" class=\"dataframe\">\n",
       "  <thead>\n",
       "    <tr style=\"text-align: right;\">\n",
       "      <th>Product</th>\n",
       "      <th>AA Batteries (4-pack)</th>\n",
       "      <th>AAA Batteries (4-pack)</th>\n",
       "      <th>Lightning Charging Cable</th>\n",
       "      <th>USB-C Charging Cable</th>\n",
       "      <th>Wired Headphones</th>\n",
       "    </tr>\n",
       "    <tr>\n",
       "      <th>Month</th>\n",
       "      <th></th>\n",
       "      <th></th>\n",
       "      <th></th>\n",
       "      <th></th>\n",
       "      <th></th>\n",
       "    </tr>\n",
       "  </thead>\n",
       "  <tbody>\n",
       "    <tr>\n",
       "      <th>1</th>\n",
       "      <td>1037</td>\n",
       "      <td>1084</td>\n",
       "      <td>1069</td>\n",
       "      <td>1171</td>\n",
       "      <td>1004</td>\n",
       "    </tr>\n",
       "    <tr>\n",
       "      <th>2</th>\n",
       "      <td>1274</td>\n",
       "      <td>1320</td>\n",
       "      <td>1393</td>\n",
       "      <td>1511</td>\n",
       "      <td>1179</td>\n",
       "    </tr>\n",
       "    <tr>\n",
       "      <th>3</th>\n",
       "      <td>1672</td>\n",
       "      <td>1645</td>\n",
       "      <td>1749</td>\n",
       "      <td>1766</td>\n",
       "      <td>1512</td>\n",
       "    </tr>\n",
       "    <tr>\n",
       "      <th>4</th>\n",
       "      <td>2062</td>\n",
       "      <td>1988</td>\n",
       "      <td>2197</td>\n",
       "      <td>2074</td>\n",
       "      <td>1888</td>\n",
       "    </tr>\n",
       "    <tr>\n",
       "      <th>5</th>\n",
       "      <td>1821</td>\n",
       "      <td>1888</td>\n",
       "      <td>1929</td>\n",
       "      <td>1879</td>\n",
       "      <td>1729</td>\n",
       "    </tr>\n",
       "    <tr>\n",
       "      <th>6</th>\n",
       "      <td>1540</td>\n",
       "      <td>1451</td>\n",
       "      <td>1560</td>\n",
       "      <td>1531</td>\n",
       "      <td>1334</td>\n",
       "    </tr>\n",
       "    <tr>\n",
       "      <th>7</th>\n",
       "      <td>1555</td>\n",
       "      <td>1554</td>\n",
       "      <td>1690</td>\n",
       "      <td>1667</td>\n",
       "      <td>1434</td>\n",
       "    </tr>\n",
       "    <tr>\n",
       "      <th>8</th>\n",
       "      <td>1357</td>\n",
       "      <td>1340</td>\n",
       "      <td>1354</td>\n",
       "      <td>1339</td>\n",
       "      <td>1191</td>\n",
       "    </tr>\n",
       "    <tr>\n",
       "      <th>9</th>\n",
       "      <td>1314</td>\n",
       "      <td>1281</td>\n",
       "      <td>1324</td>\n",
       "      <td>1451</td>\n",
       "      <td>1173</td>\n",
       "    </tr>\n",
       "    <tr>\n",
       "      <th>10</th>\n",
       "      <td>2240</td>\n",
       "      <td>2234</td>\n",
       "      <td>2414</td>\n",
       "      <td>2437</td>\n",
       "      <td>2091</td>\n",
       "    </tr>\n",
       "    <tr>\n",
       "      <th>11</th>\n",
       "      <td>1970</td>\n",
       "      <td>1999</td>\n",
       "      <td>2044</td>\n",
       "      <td>2054</td>\n",
       "      <td>1777</td>\n",
       "    </tr>\n",
       "    <tr>\n",
       "      <th>12</th>\n",
       "      <td>2716</td>\n",
       "      <td>2828</td>\n",
       "      <td>2887</td>\n",
       "      <td>2979</td>\n",
       "      <td>2537</td>\n",
       "    </tr>\n",
       "  </tbody>\n",
       "</table>\n",
       "</div>"
      ],
      "text/plain": [
       "Product  AA Batteries (4-pack)  AAA Batteries (4-pack)  \\\n",
       "Month                                                    \n",
       "1                         1037                    1084   \n",
       "2                         1274                    1320   \n",
       "3                         1672                    1645   \n",
       "4                         2062                    1988   \n",
       "5                         1821                    1888   \n",
       "6                         1540                    1451   \n",
       "7                         1555                    1554   \n",
       "8                         1357                    1340   \n",
       "9                         1314                    1281   \n",
       "10                        2240                    2234   \n",
       "11                        1970                    1999   \n",
       "12                        2716                    2828   \n",
       "\n",
       "Product  Lightning Charging Cable  USB-C Charging Cable  Wired Headphones  \n",
       "Month                                                                      \n",
       "1                            1069                  1171              1004  \n",
       "2                            1393                  1511              1179  \n",
       "3                            1749                  1766              1512  \n",
       "4                            2197                  2074              1888  \n",
       "5                            1929                  1879              1729  \n",
       "6                            1560                  1531              1334  \n",
       "7                            1690                  1667              1434  \n",
       "8                            1354                  1339              1191  \n",
       "9                            1324                  1451              1173  \n",
       "10                           2414                  2437              2091  \n",
       "11                           2044                  2054              1777  \n",
       "12                           2887                  2979              2537  "
      ]
     },
     "execution_count": 85,
     "metadata": {},
     "output_type": "execute_result"
    }
   ],
   "source": [
    "pd.crosstab(most_sold_product_df['Month'],most_sold_product_df['Product'])"
   ]
  },
  {
   "cell_type": "code",
   "execution_count": 86,
   "id": "871bedb2",
   "metadata": {},
   "outputs": [
    {
     "data": {
      "text/plain": [
       "<AxesSubplot:xlabel='Month'>"
      ]
     },
     "execution_count": 86,
     "metadata": {},
     "output_type": "execute_result"
    },
    {
     "data": {
      "image/png": "[encoded data removed]",
      "text/plain": [
       "<Figure size 432x288 with 1 Axes>"
      ]
     },
     "metadata": {
      "needs_background": "light"
     },
     "output_type": "display_data"
    }
   ],
   "source": [
    "pd.crosstab(most_sold_product_df['Month'],most_sold_product_df['Product']).plot()"
   ]
  },
  {
   "cell_type": "raw",
   "id": "9ae2ac1a",
   "metadata": {},
   "source": [
    "## Since we have learnt how to create frequency table or pivot table using crosstab() \n",
    "## lets learn how to do it using groupby + unstack()"
   ]
  },
  {
   "cell_type": "code",
   "execution_count": 81,
   "id": "c3decfb0",
   "metadata": {},
   "outputs": [
    {
     "data": {
      "text/plain": [
       "Month  Product                 \n",
       "1      AA Batteries (4-pack)       1037\n",
       "       AAA Batteries (4-pack)      1084\n",
       "       Lightning Charging Cable    1069\n",
       "       USB-C Charging Cable        1171\n",
       "       Wired Headphones            1004\n",
       "2      AA Batteries (4-pack)       1274\n",
       "       AAA Batteries (4-pack)      1320\n",
       "       Lightning Charging Cable    1393\n",
       "       USB-C Charging Cable        1511\n",
       "       Wired Headphones            1179\n",
       "3      AA Batteries (4-pack)       1672\n",
       "       AAA Batteries (4-pack)      1645\n",
       "       Lightning Charging Cable    1749\n",
       "       USB-C Charging Cable        1766\n",
       "       Wired Headphones            1512\n",
       "4      AA Batteries (4-pack)       2062\n",
       "       AAA Batteries (4-pack)      1988\n",
       "       Lightning Charging Cable    2197\n",
       "       USB-C Charging Cable        2074\n",
       "       Wired Headphones            1888\n",
       "5      AA Batteries (4-pack)       1821\n",
       "       AAA Batteries (4-pack)      1888\n",
       "       Lightning Charging Cable    1929\n",
       "       USB-C Charging Cable        1879\n",
       "       Wired Headphones            1729\n",
       "6      AA Batteries (4-pack)       1540\n",
       "       AAA Batteries (4-pack)      1451\n",
       "       Lightning Charging Cable    1560\n",
       "       USB-C Charging Cable        1531\n",
       "       Wired Headphones            1334\n",
       "7      AA Batteries (4-pack)       1555\n",
       "       AAA Batteries (4-pack)      1554\n",
       "       Lightning Charging Cable    1690\n",
       "       USB-C Charging Cable        1667\n",
       "       Wired Headphones            1434\n",
       "8      AA Batteries (4-pack)       1357\n",
       "       AAA Batteries (4-pack)      1340\n",
       "       Lightning Charging Cable    1354\n",
       "       USB-C Charging Cable        1339\n",
       "       Wired Headphones            1191\n",
       "9      AA Batteries (4-pack)       1314\n",
       "       AAA Batteries (4-pack)      1281\n",
       "       Lightning Charging Cable    1324\n",
       "       USB-C Charging Cable        1451\n",
       "       Wired Headphones            1173\n",
       "10     AA Batteries (4-pack)       2240\n",
       "       AAA Batteries (4-pack)      2234\n",
       "       Lightning Charging Cable    2414\n",
       "       USB-C Charging Cable        2437\n",
       "       Wired Headphones            2091\n",
       "11     AA Batteries (4-pack)       1970\n",
       "       AAA Batteries (4-pack)      1999\n",
       "       Lightning Charging Cable    2044\n",
       "       USB-C Charging Cable        2054\n",
       "       Wired Headphones            1777\n",
       "12     AA Batteries (4-pack)       2716\n",
       "       AAA Batteries (4-pack)      2828\n",
       "       Lightning Charging Cable    2887\n",
       "       USB-C Charging Cable        2979\n",
       "       Wired Headphones            2537\n",
       "dtype: int64"
      ]
     },
     "execution_count": 81,
     "metadata": {},
     "output_type": "execute_result"
    }
   ],
   "source": [
    "most_sold_product_df.groupby(['Month' , 'Product']).size()"
   ]
  },
  {
   "cell_type": "code",
   "execution_count": 82,
   "id": "5e38cba9",
   "metadata": {},
   "outputs": [],
   "source": [
    "pivot = most_sold_product_df.groupby(['Month' , 'Product']).size().unstack()"
   ]
  },
  {
   "cell_type": "code",
   "execution_count": 83,
   "id": "311388ae",
   "metadata": {},
   "outputs": [
    {
     "data": {
      "text/plain": [
       "<AxesSubplot:xlabel='Month'>"
      ]
     },
     "execution_count": 83,
     "metadata": {},
     "output_type": "execute_result"
    },
    {
     "data": {
      "image/png": "[encoded data removed]",
      "text/plain": [
       "<Figure size 576x432 with 1 Axes>"
      ]
     },
     "metadata": {
      "needs_background": "light"
     },
     "output_type": "display_data"
    }
   ],
   "source": [
    "pivot.plot(figsize=(8,6))"
   ]
  },
  {
   "cell_type": "markdown",
   "id": "1d95cc43",
   "metadata": {},
   "source": [
    "## What products are most often sold together"
   ]
  },
  {
   "cell_type": "code",
   "execution_count": 88,
   "id": "0573197d",
   "metadata": {},
   "outputs": [],
   "source": [
    "df_duplicated = all_data[all_data['Order ID'].duplicated(keep=False)]"
   ]
  },
  {
   "cell_type": "code",
   "execution_count": 89,
   "id": "1cf294e2",
   "metadata": {},
   "outputs": [
    {
     "data": {
      "text/html": [
       "<div>\n",
       "<style scoped>\n",
       "    .dataframe tbody tr th:only-of-type {\n",
       "        vertical-align: middle;\n",
       "    }\n",
       "\n",
       "    .dataframe tbody tr th {\n",
       "        vertical-align: top;\n",
       "    }\n",
       "\n",
       "    .dataframe thead th {\n",
       "        text-align: right;\n",
       "    }\n",
       "</style>\n",
       "<table border=\"1\" class=\"dataframe\">\n",
       "  <thead>\n",
       "    <tr style=\"text-align: right;\">\n",
       "      <th></th>\n",
       "      <th>Order ID</th>\n",
       "      <th>Product</th>\n",
       "      <th>Quantity Ordered</th>\n",
       "      <th>Price Each</th>\n",
       "      <th>Order Date</th>\n",
       "      <th>Purchase Address</th>\n",
       "      <th>Month</th>\n",
       "      <th>sales</th>\n",
       "      <th>city</th>\n",
       "    </tr>\n",
       "  </thead>\n",
       "  <tbody>\n",
       "    <tr>\n",
       "      <th>3</th>\n",
       "      <td>176560</td>\n",
       "      <td>Google Phone</td>\n",
       "      <td>1</td>\n",
       "      <td>600.00</td>\n",
       "      <td>04/12/19 14:38</td>\n",
       "      <td>669 Spruce St, Los Angeles, CA 90001</td>\n",
       "      <td>4</td>\n",
       "      <td>600.00</td>\n",
       "      <td>Los Angeles</td>\n",
       "    </tr>\n",
       "    <tr>\n",
       "      <th>4</th>\n",
       "      <td>176560</td>\n",
       "      <td>Wired Headphones</td>\n",
       "      <td>1</td>\n",
       "      <td>11.99</td>\n",
       "      <td>04/12/19 14:38</td>\n",
       "      <td>669 Spruce St, Los Angeles, CA 90001</td>\n",
       "      <td>4</td>\n",
       "      <td>11.99</td>\n",
       "      <td>Los Angeles</td>\n",
       "    </tr>\n",
       "    <tr>\n",
       "      <th>18</th>\n",
       "      <td>176574</td>\n",
       "      <td>Google Phone</td>\n",
       "      <td>1</td>\n",
       "      <td>600.00</td>\n",
       "      <td>04/03/19 19:42</td>\n",
       "      <td>20 Hill St, Los Angeles, CA 90001</td>\n",
       "      <td>4</td>\n",
       "      <td>600.00</td>\n",
       "      <td>Los Angeles</td>\n",
       "    </tr>\n",
       "    <tr>\n",
       "      <th>19</th>\n",
       "      <td>176574</td>\n",
       "      <td>USB-C Charging Cable</td>\n",
       "      <td>1</td>\n",
       "      <td>11.95</td>\n",
       "      <td>04/03/19 19:42</td>\n",
       "      <td>20 Hill St, Los Angeles, CA 90001</td>\n",
       "      <td>4</td>\n",
       "      <td>11.95</td>\n",
       "      <td>Los Angeles</td>\n",
       "    </tr>\n",
       "    <tr>\n",
       "      <th>32</th>\n",
       "      <td>176586</td>\n",
       "      <td>AAA Batteries (4-pack)</td>\n",
       "      <td>2</td>\n",
       "      <td>2.99</td>\n",
       "      <td>04/10/19 17:00</td>\n",
       "      <td>365 Center St, San Francisco, CA 94016</td>\n",
       "      <td>4</td>\n",
       "      <td>5.98</td>\n",
       "      <td>San Francisco</td>\n",
       "    </tr>\n",
       "    <tr>\n",
       "      <th>...</th>\n",
       "      <td>...</td>\n",
       "      <td>...</td>\n",
       "      <td>...</td>\n",
       "      <td>...</td>\n",
       "      <td>...</td>\n",
       "      <td>...</td>\n",
       "      <td>...</td>\n",
       "      <td>...</td>\n",
       "      <td>...</td>\n",
       "    </tr>\n",
       "    <tr>\n",
       "      <th>186792</th>\n",
       "      <td>259303</td>\n",
       "      <td>AA Batteries (4-pack)</td>\n",
       "      <td>1</td>\n",
       "      <td>3.84</td>\n",
       "      <td>09/20/19 20:18</td>\n",
       "      <td>106 7th St, Atlanta, GA 30301</td>\n",
       "      <td>9</td>\n",
       "      <td>3.84</td>\n",
       "      <td>Atlanta</td>\n",
       "    </tr>\n",
       "    <tr>\n",
       "      <th>186803</th>\n",
       "      <td>259314</td>\n",
       "      <td>Wired Headphones</td>\n",
       "      <td>1</td>\n",
       "      <td>11.99</td>\n",
       "      <td>09/16/19 00:25</td>\n",
       "      <td>241 Highland St, Atlanta, GA 30301</td>\n",
       "      <td>9</td>\n",
       "      <td>11.99</td>\n",
       "      <td>Atlanta</td>\n",
       "    </tr>\n",
       "    <tr>\n",
       "      <th>186804</th>\n",
       "      <td>259314</td>\n",
       "      <td>AAA Batteries (4-pack)</td>\n",
       "      <td>2</td>\n",
       "      <td>2.99</td>\n",
       "      <td>09/16/19 00:25</td>\n",
       "      <td>241 Highland St, Atlanta, GA 30301</td>\n",
       "      <td>9</td>\n",
       "      <td>5.98</td>\n",
       "      <td>Atlanta</td>\n",
       "    </tr>\n",
       "    <tr>\n",
       "      <th>186841</th>\n",
       "      <td>259350</td>\n",
       "      <td>Google Phone</td>\n",
       "      <td>1</td>\n",
       "      <td>600.00</td>\n",
       "      <td>09/30/19 13:49</td>\n",
       "      <td>519 Maple St, San Francisco, CA 94016</td>\n",
       "      <td>9</td>\n",
       "      <td>600.00</td>\n",
       "      <td>San Francisco</td>\n",
       "    </tr>\n",
       "    <tr>\n",
       "      <th>186842</th>\n",
       "      <td>259350</td>\n",
       "      <td>USB-C Charging Cable</td>\n",
       "      <td>1</td>\n",
       "      <td>11.95</td>\n",
       "      <td>09/30/19 13:49</td>\n",
       "      <td>519 Maple St, San Francisco, CA 94016</td>\n",
       "      <td>9</td>\n",
       "      <td>11.95</td>\n",
       "      <td>San Francisco</td>\n",
       "    </tr>\n",
       "  </tbody>\n",
       "</table>\n",
       "<p>14128 rows × 9 columns</p>\n",
       "</div>"
      ],
      "text/plain": [
       "       Order ID                 Product  Quantity Ordered  Price Each  \\\n",
       "3        176560            Google Phone                 1      600.00   \n",
       "4        176560        Wired Headphones                 1       11.99   \n",
       "18       176574            Google Phone                 1      600.00   \n",
       "19       176574    USB-C Charging Cable                 1       11.95   \n",
       "32       176586  AAA Batteries (4-pack)                 2        2.99   \n",
       "...         ...                     ...               ...         ...   \n",
       "186792   259303   AA Batteries (4-pack)                 1        3.84   \n",
       "186803   259314        Wired Headphones                 1       11.99   \n",
       "186804   259314  AAA Batteries (4-pack)                 2        2.99   \n",
       "186841   259350            Google Phone                 1      600.00   \n",
       "186842   259350    USB-C Charging Cable                 1       11.95   \n",
       "\n",
       "            Order Date                        Purchase Address  Month   sales  \\\n",
       "3       04/12/19 14:38    669 Spruce St, Los Angeles, CA 90001      4  600.00   \n",
       "4       04/12/19 14:38    669 Spruce St, Los Angeles, CA 90001      4   11.99   \n",
       "18      04/03/19 19:42       20 Hill St, Los Angeles, CA 90001      4  600.00   \n",
       "19      04/03/19 19:42       20 Hill St, Los Angeles, CA 90001      4   11.95   \n",
       "32      04/10/19 17:00  365 Center St, San Francisco, CA 94016      4    5.98   \n",
       "...                ...                                     ...    ...     ...   \n",
       "186792  09/20/19 20:18           106 7th St, Atlanta, GA 30301      9    3.84   \n",
       "186803  09/16/19 00:25      241 Highland St, Atlanta, GA 30301      9   11.99   \n",
       "186804  09/16/19 00:25      241 Highland St, Atlanta, GA 30301      9    5.98   \n",
       "186841  09/30/19 13:49   519 Maple St, San Francisco, CA 94016      9  600.00   \n",
       "186842  09/30/19 13:49   519 Maple St, San Francisco, CA 94016      9   11.95   \n",
       "\n",
       "                  city  \n",
       "3          Los Angeles  \n",
       "4          Los Angeles  \n",
       "18         Los Angeles  \n",
       "19         Los Angeles  \n",
       "32       San Francisco  \n",
       "...                ...  \n",
       "186792         Atlanta  \n",
       "186803         Atlanta  \n",
       "186804         Atlanta  \n",
       "186841   San Francisco  \n",
       "186842   San Francisco  \n",
       "\n",
       "[14128 rows x 9 columns]"
      ]
     },
     "execution_count": 89,
     "metadata": {},
     "output_type": "execute_result"
    }
   ],
   "source": [
    "df_duplicated ## dataframe in which we have those Order Ids who have purchased more products !"
   ]
  },
  {
   "cell_type": "code",
   "execution_count": 90,
   "id": "91bc3290",
   "metadata": {},
   "outputs": [],
   "source": [
    "dup_products = df_duplicated.groupby(['Order ID'])['Product'].apply(lambda x : ','.join(x)).reset_index().rename(columns={'Product':'grouped_products'})\n",
    "\n",
    "## for every Order-Id , collect all the products .."
   ]
  },
  {
   "cell_type": "code",
   "execution_count": 91,
   "id": "62f24e2c",
   "metadata": {},
   "outputs": [],
   "source": [
    "dup_products_df = df_duplicated.merge(dup_products , how='left' , on='Order ID') ## merge dataframes "
   ]
  },
  {
   "cell_type": "code",
   "execution_count": 93,
   "id": "f4581edb",
   "metadata": {},
   "outputs": [
    {
     "data": {
      "text/html": [
       "<div>\n",
       "<style scoped>\n",
       "    .dataframe tbody tr th:only-of-type {\n",
       "        vertical-align: middle;\n",
       "    }\n",
       "\n",
       "    .dataframe tbody tr th {\n",
       "        vertical-align: top;\n",
       "    }\n",
       "\n",
       "    .dataframe thead th {\n",
       "        text-align: right;\n",
       "    }\n",
       "</style>\n",
       "<table border=\"1\" class=\"dataframe\">\n",
       "  <thead>\n",
       "    <tr style=\"text-align: right;\">\n",
       "      <th></th>\n",
       "      <th>Order ID</th>\n",
       "      <th>Product</th>\n",
       "      <th>Quantity Ordered</th>\n",
       "      <th>Price Each</th>\n",
       "      <th>Order Date</th>\n",
       "      <th>Purchase Address</th>\n",
       "      <th>Month</th>\n",
       "      <th>sales</th>\n",
       "      <th>city</th>\n",
       "      <th>grouped_products</th>\n",
       "    </tr>\n",
       "  </thead>\n",
       "  <tbody>\n",
       "    <tr>\n",
       "      <th>0</th>\n",
       "      <td>176560</td>\n",
       "      <td>Google Phone</td>\n",
       "      <td>1</td>\n",
       "      <td>600.00</td>\n",
       "      <td>04/12/19 14:38</td>\n",
       "      <td>669 Spruce St, Los Angeles, CA 90001</td>\n",
       "      <td>4</td>\n",
       "      <td>600.00</td>\n",
       "      <td>Los Angeles</td>\n",
       "      <td>Google Phone,Wired Headphones</td>\n",
       "    </tr>\n",
       "    <tr>\n",
       "      <th>1</th>\n",
       "      <td>176560</td>\n",
       "      <td>Wired Headphones</td>\n",
       "      <td>1</td>\n",
       "      <td>11.99</td>\n",
       "      <td>04/12/19 14:38</td>\n",
       "      <td>669 Spruce St, Los Angeles, CA 90001</td>\n",
       "      <td>4</td>\n",
       "      <td>11.99</td>\n",
       "      <td>Los Angeles</td>\n",
       "      <td>Google Phone,Wired Headphones</td>\n",
       "    </tr>\n",
       "    <tr>\n",
       "      <th>2</th>\n",
       "      <td>176574</td>\n",
       "      <td>Google Phone</td>\n",
       "      <td>1</td>\n",
       "      <td>600.00</td>\n",
       "      <td>04/03/19 19:42</td>\n",
       "      <td>20 Hill St, Los Angeles, CA 90001</td>\n",
       "      <td>4</td>\n",
       "      <td>600.00</td>\n",
       "      <td>Los Angeles</td>\n",
       "      <td>Google Phone,USB-C Charging Cable</td>\n",
       "    </tr>\n",
       "    <tr>\n",
       "      <th>3</th>\n",
       "      <td>176574</td>\n",
       "      <td>USB-C Charging Cable</td>\n",
       "      <td>1</td>\n",
       "      <td>11.95</td>\n",
       "      <td>04/03/19 19:42</td>\n",
       "      <td>20 Hill St, Los Angeles, CA 90001</td>\n",
       "      <td>4</td>\n",
       "      <td>11.95</td>\n",
       "      <td>Los Angeles</td>\n",
       "      <td>Google Phone,USB-C Charging Cable</td>\n",
       "    </tr>\n",
       "    <tr>\n",
       "      <th>4</th>\n",
       "      <td>176586</td>\n",
       "      <td>AAA Batteries (4-pack)</td>\n",
       "      <td>2</td>\n",
       "      <td>2.99</td>\n",
       "      <td>04/10/19 17:00</td>\n",
       "      <td>365 Center St, San Francisco, CA 94016</td>\n",
       "      <td>4</td>\n",
       "      <td>5.98</td>\n",
       "      <td>San Francisco</td>\n",
       "      <td>AAA Batteries (4-pack),Google Phone</td>\n",
       "    </tr>\n",
       "    <tr>\n",
       "      <th>...</th>\n",
       "      <td>...</td>\n",
       "      <td>...</td>\n",
       "      <td>...</td>\n",
       "      <td>...</td>\n",
       "      <td>...</td>\n",
       "      <td>...</td>\n",
       "      <td>...</td>\n",
       "      <td>...</td>\n",
       "      <td>...</td>\n",
       "      <td>...</td>\n",
       "    </tr>\n",
       "    <tr>\n",
       "      <th>14123</th>\n",
       "      <td>259303</td>\n",
       "      <td>AA Batteries (4-pack)</td>\n",
       "      <td>1</td>\n",
       "      <td>3.84</td>\n",
       "      <td>09/20/19 20:18</td>\n",
       "      <td>106 7th St, Atlanta, GA 30301</td>\n",
       "      <td>9</td>\n",
       "      <td>3.84</td>\n",
       "      <td>Atlanta</td>\n",
       "      <td>34in Ultrawide Monitor,AA Batteries (4-pack)</td>\n",
       "    </tr>\n",
       "    <tr>\n",
       "      <th>14124</th>\n",
       "      <td>259314</td>\n",
       "      <td>Wired Headphones</td>\n",
       "      <td>1</td>\n",
       "      <td>11.99</td>\n",
       "      <td>09/16/19 00:25</td>\n",
       "      <td>241 Highland St, Atlanta, GA 30301</td>\n",
       "      <td>9</td>\n",
       "      <td>11.99</td>\n",
       "      <td>Atlanta</td>\n",
       "      <td>Wired Headphones,AAA Batteries (4-pack)</td>\n",
       "    </tr>\n",
       "    <tr>\n",
       "      <th>14125</th>\n",
       "      <td>259314</td>\n",
       "      <td>AAA Batteries (4-pack)</td>\n",
       "      <td>2</td>\n",
       "      <td>2.99</td>\n",
       "      <td>09/16/19 00:25</td>\n",
       "      <td>241 Highland St, Atlanta, GA 30301</td>\n",
       "      <td>9</td>\n",
       "      <td>5.98</td>\n",
       "      <td>Atlanta</td>\n",
       "      <td>Wired Headphones,AAA Batteries (4-pack)</td>\n",
       "    </tr>\n",
       "    <tr>\n",
       "      <th>14126</th>\n",
       "      <td>259350</td>\n",
       "      <td>Google Phone</td>\n",
       "      <td>1</td>\n",
       "      <td>600.00</td>\n",
       "      <td>09/30/19 13:49</td>\n",
       "      <td>519 Maple St, San Francisco, CA 94016</td>\n",
       "      <td>9</td>\n",
       "      <td>600.00</td>\n",
       "      <td>San Francisco</td>\n",
       "      <td>Google Phone,USB-C Charging Cable</td>\n",
       "    </tr>\n",
       "    <tr>\n",
       "      <th>14127</th>\n",
       "      <td>259350</td>\n",
       "      <td>USB-C Charging Cable</td>\n",
       "      <td>1</td>\n",
       "      <td>11.95</td>\n",
       "      <td>09/30/19 13:49</td>\n",
       "      <td>519 Maple St, San Francisco, CA 94016</td>\n",
       "      <td>9</td>\n",
       "      <td>11.95</td>\n",
       "      <td>San Francisco</td>\n",
       "      <td>Google Phone,USB-C Charging Cable</td>\n",
       "    </tr>\n",
       "  </tbody>\n",
       "</table>\n",
       "<p>14128 rows × 10 columns</p>\n",
       "</div>"
      ],
      "text/plain": [
       "      Order ID                 Product  Quantity Ordered  Price Each  \\\n",
       "0       176560            Google Phone                 1      600.00   \n",
       "1       176560        Wired Headphones                 1       11.99   \n",
       "2       176574            Google Phone                 1      600.00   \n",
       "3       176574    USB-C Charging Cable                 1       11.95   \n",
       "4       176586  AAA Batteries (4-pack)                 2        2.99   \n",
       "...        ...                     ...               ...         ...   \n",
       "14123   259303   AA Batteries (4-pack)                 1        3.84   \n",
       "14124   259314        Wired Headphones                 1       11.99   \n",
       "14125   259314  AAA Batteries (4-pack)                 2        2.99   \n",
       "14126   259350            Google Phone                 1      600.00   \n",
       "14127   259350    USB-C Charging Cable                 1       11.95   \n",
       "\n",
       "           Order Date                        Purchase Address  Month   sales  \\\n",
       "0      04/12/19 14:38    669 Spruce St, Los Angeles, CA 90001      4  600.00   \n",
       "1      04/12/19 14:38    669 Spruce St, Los Angeles, CA 90001      4   11.99   \n",
       "2      04/03/19 19:42       20 Hill St, Los Angeles, CA 90001      4  600.00   \n",
       "3      04/03/19 19:42       20 Hill St, Los Angeles, CA 90001      4   11.95   \n",
       "4      04/10/19 17:00  365 Center St, San Francisco, CA 94016      4    5.98   \n",
       "...               ...                                     ...    ...     ...   \n",
       "14123  09/20/19 20:18           106 7th St, Atlanta, GA 30301      9    3.84   \n",
       "14124  09/16/19 00:25      241 Highland St, Atlanta, GA 30301      9   11.99   \n",
       "14125  09/16/19 00:25      241 Highland St, Atlanta, GA 30301      9    5.98   \n",
       "14126  09/30/19 13:49   519 Maple St, San Francisco, CA 94016      9  600.00   \n",
       "14127  09/30/19 13:49   519 Maple St, San Francisco, CA 94016      9   11.95   \n",
       "\n",
       "                 city                              grouped_products  \n",
       "0         Los Angeles                 Google Phone,Wired Headphones  \n",
       "1         Los Angeles                 Google Phone,Wired Headphones  \n",
       "2         Los Angeles             Google Phone,USB-C Charging Cable  \n",
       "3         Los Angeles             Google Phone,USB-C Charging Cable  \n",
       "4       San Francisco           AAA Batteries (4-pack),Google Phone  \n",
       "...               ...                                           ...  \n",
       "14123         Atlanta  34in Ultrawide Monitor,AA Batteries (4-pack)  \n",
       "14124         Atlanta       Wired Headphones,AAA Batteries (4-pack)  \n",
       "14125         Atlanta       Wired Headphones,AAA Batteries (4-pack)  \n",
       "14126   San Francisco             Google Phone,USB-C Charging Cable  \n",
       "14127   San Francisco             Google Phone,USB-C Charging Cable  \n",
       "\n",
       "[14128 rows x 10 columns]"
      ]
     },
     "execution_count": 93,
     "metadata": {},
     "output_type": "execute_result"
    }
   ],
   "source": [
    "dup_products_df"
   ]
  },
  {
   "cell_type": "code",
   "execution_count": 94,
   "id": "bcb8f765",
   "metadata": {},
   "outputs": [],
   "source": [
    "no_dup_df = dup_products_df.drop_duplicates(subset=['Order ID']) # lets drop out all duplicate Order ID"
   ]
  },
  {
   "cell_type": "code",
   "execution_count": 95,
   "id": "5314c217",
   "metadata": {},
   "outputs": [
    {
     "data": {
      "text/html": [
       "<div>\n",
       "<style scoped>\n",
       "    .dataframe tbody tr th:only-of-type {\n",
       "        vertical-align: middle;\n",
       "    }\n",
       "\n",
       "    .dataframe tbody tr th {\n",
       "        vertical-align: top;\n",
       "    }\n",
       "\n",
       "    .dataframe thead th {\n",
       "        text-align: right;\n",
       "    }\n",
       "</style>\n",
       "<table border=\"1\" class=\"dataframe\">\n",
       "  <thead>\n",
       "    <tr style=\"text-align: right;\">\n",
       "      <th></th>\n",
       "      <th>Order ID</th>\n",
       "      <th>Product</th>\n",
       "      <th>Quantity Ordered</th>\n",
       "      <th>Price Each</th>\n",
       "      <th>Order Date</th>\n",
       "      <th>Purchase Address</th>\n",
       "      <th>Month</th>\n",
       "      <th>sales</th>\n",
       "      <th>city</th>\n",
       "      <th>grouped_products</th>\n",
       "    </tr>\n",
       "  </thead>\n",
       "  <tbody>\n",
       "    <tr>\n",
       "      <th>0</th>\n",
       "      <td>176560</td>\n",
       "      <td>Google Phone</td>\n",
       "      <td>1</td>\n",
       "      <td>600.00</td>\n",
       "      <td>04/12/19 14:38</td>\n",
       "      <td>669 Spruce St, Los Angeles, CA 90001</td>\n",
       "      <td>4</td>\n",
       "      <td>600.00</td>\n",
       "      <td>Los Angeles</td>\n",
       "      <td>Google Phone,Wired Headphones</td>\n",
       "    </tr>\n",
       "    <tr>\n",
       "      <th>2</th>\n",
       "      <td>176574</td>\n",
       "      <td>Google Phone</td>\n",
       "      <td>1</td>\n",
       "      <td>600.00</td>\n",
       "      <td>04/03/19 19:42</td>\n",
       "      <td>20 Hill St, Los Angeles, CA 90001</td>\n",
       "      <td>4</td>\n",
       "      <td>600.00</td>\n",
       "      <td>Los Angeles</td>\n",
       "      <td>Google Phone,USB-C Charging Cable</td>\n",
       "    </tr>\n",
       "    <tr>\n",
       "      <th>4</th>\n",
       "      <td>176586</td>\n",
       "      <td>AAA Batteries (4-pack)</td>\n",
       "      <td>2</td>\n",
       "      <td>2.99</td>\n",
       "      <td>04/10/19 17:00</td>\n",
       "      <td>365 Center St, San Francisco, CA 94016</td>\n",
       "      <td>4</td>\n",
       "      <td>5.98</td>\n",
       "      <td>San Francisco</td>\n",
       "      <td>AAA Batteries (4-pack),Google Phone</td>\n",
       "    </tr>\n",
       "    <tr>\n",
       "      <th>6</th>\n",
       "      <td>176672</td>\n",
       "      <td>Lightning Charging Cable</td>\n",
       "      <td>1</td>\n",
       "      <td>14.95</td>\n",
       "      <td>04/12/19 11:07</td>\n",
       "      <td>778 Maple St, New York City, NY 10001</td>\n",
       "      <td>4</td>\n",
       "      <td>14.95</td>\n",
       "      <td>New York City</td>\n",
       "      <td>Lightning Charging Cable,USB-C Charging Cable</td>\n",
       "    </tr>\n",
       "    <tr>\n",
       "      <th>8</th>\n",
       "      <td>176681</td>\n",
       "      <td>Apple Airpods Headphones</td>\n",
       "      <td>1</td>\n",
       "      <td>150.00</td>\n",
       "      <td>04/20/19 10:39</td>\n",
       "      <td>331 Cherry St, Seattle, WA 98101</td>\n",
       "      <td>4</td>\n",
       "      <td>150.00</td>\n",
       "      <td>Seattle</td>\n",
       "      <td>Apple Airpods Headphones,ThinkPad Laptop</td>\n",
       "    </tr>\n",
       "    <tr>\n",
       "      <th>...</th>\n",
       "      <td>...</td>\n",
       "      <td>...</td>\n",
       "      <td>...</td>\n",
       "      <td>...</td>\n",
       "      <td>...</td>\n",
       "      <td>...</td>\n",
       "      <td>...</td>\n",
       "      <td>...</td>\n",
       "      <td>...</td>\n",
       "      <td>...</td>\n",
       "    </tr>\n",
       "    <tr>\n",
       "      <th>14118</th>\n",
       "      <td>259277</td>\n",
       "      <td>iPhone</td>\n",
       "      <td>1</td>\n",
       "      <td>700.00</td>\n",
       "      <td>09/28/19 13:07</td>\n",
       "      <td>795 Willow St, New York City, NY 10001</td>\n",
       "      <td>9</td>\n",
       "      <td>700.00</td>\n",
       "      <td>New York City</td>\n",
       "      <td>iPhone,Wired Headphones</td>\n",
       "    </tr>\n",
       "    <tr>\n",
       "      <th>14120</th>\n",
       "      <td>259297</td>\n",
       "      <td>iPhone</td>\n",
       "      <td>1</td>\n",
       "      <td>700.00</td>\n",
       "      <td>09/15/19 18:54</td>\n",
       "      <td>138 Main St, Boston, MA 02215</td>\n",
       "      <td>9</td>\n",
       "      <td>700.00</td>\n",
       "      <td>Boston</td>\n",
       "      <td>iPhone,Lightning Charging Cable</td>\n",
       "    </tr>\n",
       "    <tr>\n",
       "      <th>14122</th>\n",
       "      <td>259303</td>\n",
       "      <td>34in Ultrawide Monitor</td>\n",
       "      <td>1</td>\n",
       "      <td>379.99</td>\n",
       "      <td>09/20/19 20:18</td>\n",
       "      <td>106 7th St, Atlanta, GA 30301</td>\n",
       "      <td>9</td>\n",
       "      <td>379.99</td>\n",
       "      <td>Atlanta</td>\n",
       "      <td>34in Ultrawide Monitor,AA Batteries (4-pack)</td>\n",
       "    </tr>\n",
       "    <tr>\n",
       "      <th>14124</th>\n",
       "      <td>259314</td>\n",
       "      <td>Wired Headphones</td>\n",
       "      <td>1</td>\n",
       "      <td>11.99</td>\n",
       "      <td>09/16/19 00:25</td>\n",
       "      <td>241 Highland St, Atlanta, GA 30301</td>\n",
       "      <td>9</td>\n",
       "      <td>11.99</td>\n",
       "      <td>Atlanta</td>\n",
       "      <td>Wired Headphones,AAA Batteries (4-pack)</td>\n",
       "    </tr>\n",
       "    <tr>\n",
       "      <th>14126</th>\n",
       "      <td>259350</td>\n",
       "      <td>Google Phone</td>\n",
       "      <td>1</td>\n",
       "      <td>600.00</td>\n",
       "      <td>09/30/19 13:49</td>\n",
       "      <td>519 Maple St, San Francisco, CA 94016</td>\n",
       "      <td>9</td>\n",
       "      <td>600.00</td>\n",
       "      <td>San Francisco</td>\n",
       "      <td>Google Phone,USB-C Charging Cable</td>\n",
       "    </tr>\n",
       "  </tbody>\n",
       "</table>\n",
       "<p>6879 rows × 10 columns</p>\n",
       "</div>"
      ],
      "text/plain": [
       "      Order ID                   Product  Quantity Ordered  Price Each  \\\n",
       "0       176560              Google Phone                 1      600.00   \n",
       "2       176574              Google Phone                 1      600.00   \n",
       "4       176586    AAA Batteries (4-pack)                 2        2.99   \n",
       "6       176672  Lightning Charging Cable                 1       14.95   \n",
       "8       176681  Apple Airpods Headphones                 1      150.00   \n",
       "...        ...                       ...               ...         ...   \n",
       "14118   259277                    iPhone                 1      700.00   \n",
       "14120   259297                    iPhone                 1      700.00   \n",
       "14122   259303    34in Ultrawide Monitor                 1      379.99   \n",
       "14124   259314          Wired Headphones                 1       11.99   \n",
       "14126   259350              Google Phone                 1      600.00   \n",
       "\n",
       "           Order Date                        Purchase Address  Month   sales  \\\n",
       "0      04/12/19 14:38    669 Spruce St, Los Angeles, CA 90001      4  600.00   \n",
       "2      04/03/19 19:42       20 Hill St, Los Angeles, CA 90001      4  600.00   \n",
       "4      04/10/19 17:00  365 Center St, San Francisco, CA 94016      4    5.98   \n",
       "6      04/12/19 11:07   778 Maple St, New York City, NY 10001      4   14.95   \n",
       "8      04/20/19 10:39        331 Cherry St, Seattle, WA 98101      4  150.00   \n",
       "...               ...                                     ...    ...     ...   \n",
       "14118  09/28/19 13:07  795 Willow St, New York City, NY 10001      9  700.00   \n",
       "14120  09/15/19 18:54           138 Main St, Boston, MA 02215      9  700.00   \n",
       "14122  09/20/19 20:18           106 7th St, Atlanta, GA 30301      9  379.99   \n",
       "14124  09/16/19 00:25      241 Highland St, Atlanta, GA 30301      9   11.99   \n",
       "14126  09/30/19 13:49   519 Maple St, San Francisco, CA 94016      9  600.00   \n",
       "\n",
       "                 city                               grouped_products  \n",
       "0         Los Angeles                  Google Phone,Wired Headphones  \n",
       "2         Los Angeles              Google Phone,USB-C Charging Cable  \n",
       "4       San Francisco            AAA Batteries (4-pack),Google Phone  \n",
       "6       New York City  Lightning Charging Cable,USB-C Charging Cable  \n",
       "8             Seattle       Apple Airpods Headphones,ThinkPad Laptop  \n",
       "...               ...                                            ...  \n",
       "14118   New York City                        iPhone,Wired Headphones  \n",
       "14120          Boston                iPhone,Lightning Charging Cable  \n",
       "14122         Atlanta   34in Ultrawide Monitor,AA Batteries (4-pack)  \n",
       "14124         Atlanta        Wired Headphones,AAA Batteries (4-pack)  \n",
       "14126   San Francisco              Google Phone,USB-C Charging Cable  \n",
       "\n",
       "[6879 rows x 10 columns]"
      ]
     },
     "execution_count": 95,
     "metadata": {},
     "output_type": "execute_result"
    }
   ],
   "source": [
    "no_dup_df"
   ]
  },
  {
   "cell_type": "code",
   "execution_count": 96,
   "id": "13be4f6b",
   "metadata": {},
   "outputs": [
    {
     "data": {
      "text/plain": [
       "<AxesSubplot:ylabel='grouped_products'>"
      ]
     },
     "execution_count": 96,
     "metadata": {},
     "output_type": "execute_result"
    },
    {
     "data": {
      "image/png": "[encoded data removed]",
      "text/plain": [
       "<Figure size 432x288 with 1 Axes>"
      ]
     },
     "metadata": {},
     "output_type": "display_data"
    }
   ],
   "source": [
    "no_dup_df['grouped_products'].value_counts()[0:5].plot.pie()"
   ]
  },
  {
   "cell_type": "code",
   "execution_count": null,
   "id": "244e49cd",
   "metadata": {},
   "outputs": [],
   "source": []
  }
 ],
 "metadata": {
  "kernelspec": {
   "display_name": "Python 3 (ipykernel)",
   "language": "python",
   "name": "python3"
  },
  "language_info": {
   "codemirror_mode": {
    "name": "ipython",
    "version": 3
   },
   "file_extension": ".py",
   "mimetype": "text/x-python",
   "name": "python",
   "nbconvert_exporter": "python",
   "pygments_lexer": "ipython3",
   "version": "3.9.7"
  }
 },
 "nbformat": 4,
 "nbformat_minor": 5
}
